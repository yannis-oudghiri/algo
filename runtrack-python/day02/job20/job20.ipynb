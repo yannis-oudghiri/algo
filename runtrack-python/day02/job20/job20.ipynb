{
 "cells": [
  {
   "cell_type": "code",
   "execution_count": 1,
   "id": "87eb4e7a-b79c-425b-bf42-18db4bf3eb1b",
   "metadata": {
    "tags": []
   },
   "outputs": [],
   "source": [
    "class Person:\n",
    "    def __init__(self,name,firstname):\n",
    "        self.__name = name\n",
    "        self.__firstname = firstname\n",
    "    \n",
    "    def sePresenter(self):\n",
    "        print(f\"I am {self.__firstname} {self.__name}\")\n",
    "    \n",
    "    def get_name(self):\n",
    "        return self.__name\n",
    "    \n",
    "    def get_firstname(self):\n",
    "        return self.__firstname\n",
    "    \n",
    "    def set_name(self, name):\n",
    "        self.__name = name\n",
    "    \n",
    "    def set_firstname(self, firstname):\n",
    "        self.__firstname = firstname"
   ]
  },
  {
   "cell_type": "code",
   "execution_count": 2,
   "id": "b329d53e-53ca-4467-bb69-0cde536550bf",
   "metadata": {
    "tags": []
   },
   "outputs": [
    {
     "name": "stdout",
     "output_type": "stream",
     "text": [
      "I am Jack Sparrow\n"
     ]
    }
   ],
   "source": [
    "jack = Person('Sparrow','Jack')\n",
    "jack.sePresenter()"
   ]
  },
  {
   "cell_type": "code",
   "execution_count": null,
   "id": "03e7388f-a1e6-4334-adf0-cb60743d2acb",
   "metadata": {},
   "outputs": [],
   "source": []
  }
 ],
 "metadata": {
  "kernelspec": {
   "display_name": "Python 3 (ipykernel)",
   "language": "python",
   "name": "python3"
  },
  "language_info": {
   "codemirror_mode": {
    "name": "ipython",
    "version": 3
   },
   "file_extension": ".py",
   "mimetype": "text/x-python",
   "name": "python",
   "nbconvert_exporter": "python",
   "pygments_lexer": "ipython3",
   "version": "3.11.4"
  }
 },
 "nbformat": 4,
 "nbformat_minor": 5
}
