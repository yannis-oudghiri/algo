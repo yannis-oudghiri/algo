{
 "cells": [
  {
   "cell_type": "code",
   "execution_count": 1,
   "id": "0416889a-2f57-45af-b823-bccbaf28e762",
   "metadata": {},
   "outputs": [],
   "source": [
    "import numpy as np"
   ]
  },
  {
   "cell_type": "code",
   "execution_count": 42,
   "id": "5fec4bcd-786e-4e0d-9154-0c6855c5eb4c",
   "metadata": {
    "tags": []
   },
   "outputs": [],
   "source": [
    "class Board():\n",
    "    def __init__(self,rows,columns):\n",
    "        self.rows = rows\n",
    "        self.columns = columns\n",
    "        self.grid = np.full((rows,columns), 'O')\n",
    "    \n",
    "    def __str__(self):\n",
    "        grid=''\n",
    "        for i in range(self.rows):\n",
    "            line = ''\n",
    "            for j in range(self.columns):\n",
    "                line += self.grid[i,j] + ' '\n",
    "            grid += line + '\\n'\n",
    "        return grid\n",
    "    \n",
    "    def height(self,j):\n",
    "        i = self.rows\n",
    "        b = False\n",
    "        while i >= 0 and b != True:\n",
    "            i -= 1\n",
    "            if self.grid[i,j] == 'O':\n",
    "                b=True\n",
    "        return i\n",
    "    \n",
    "    def play(self,j,color):\n",
    "        if self.height(j) >= 0:\n",
    "            self.grid[self.height(j),j] = color\n",
    "    \n",
    "    def win(self):\n",
    "        direction = [(1,0),(-1,0),(0,1),(0,-1),(1,1),(1,-1),(-1,1),(-1,-1)]\n",
    "        for row in range(self.rows):\n",
    "            for column in range(self.columns):\n",
    "                if self.grid[row,column] != 'O':\n",
    "                    for x,y in direction:\n",
    "                        for step in range(1,4):\n",
    "                            next_row = row + x*step\n",
    "                            next_column = column + x*step\n",
    "                            if 0 <= next_column < self.columns and 0 <= next_row < self.rows:\n",
    "                                if self.grid[next_row,next_column] == self.grid[row,column]:\n",
    "                                    if step==3:\n",
    "                                        return True\n",
    "                                else :\n",
    "                                    break\n",
    "        return False\n",
    "    \n",
    "    def play_ia(self,color):\n",
    "        j = np.argmax(np.count_nonzero(board.grid == color,axis=0))\n",
    "        self.play(j,color)"
   ]
  },
  {
   "cell_type": "code",
   "execution_count": 43,
   "id": "c1eb9a7c-bc3b-4930-84fd-b03e65c9175e",
   "metadata": {
    "tags": []
   },
   "outputs": [],
   "source": [
    "board = Board(5,10)"
   ]
  },
  {
   "cell_type": "code",
   "execution_count": 44,
   "id": "e5d230f2-4764-40e1-84e6-0d9f36387a89",
   "metadata": {
    "tags": []
   },
   "outputs": [
    {
     "name": "stdout",
     "output_type": "stream",
     "text": [
      "O O O O O O O O O O \n",
      "O O O O O O O O O O \n",
      "O O O O O O O O O O \n",
      "O O O O O O O O O O \n",
      "O O O O O O O O O O \n",
      "\n"
     ]
    }
   ],
   "source": [
    "print(board)"
   ]
  },
  {
   "cell_type": "code",
   "execution_count": 45,
   "id": "da3efda3-7c2c-40d1-9a54-8d5bde28f484",
   "metadata": {
    "tags": []
   },
   "outputs": [],
   "source": [
    "board.play(1,'R')"
   ]
  },
  {
   "cell_type": "code",
   "execution_count": 46,
   "id": "6d7decaf-360a-42b8-a254-f28a720ee7e4",
   "metadata": {
    "tags": []
   },
   "outputs": [
    {
     "name": "stdout",
     "output_type": "stream",
     "text": [
      "O O O O O O O O O O \n",
      "O O O O O O O O O O \n",
      "O O O O O O O O O O \n",
      "O O O O O O O O O O \n",
      "O R O O O O O O O O \n",
      "\n"
     ]
    }
   ],
   "source": [
    "print(board)"
   ]
  },
  {
   "cell_type": "code",
   "execution_count": 47,
   "id": "da04846f-8285-4897-a029-c25b04912702",
   "metadata": {
    "tags": []
   },
   "outputs": [
    {
     "name": "stdout",
     "output_type": "stream",
     "text": [
      "O O O O O O O O O O \n",
      "O O O O O O O O O O \n",
      "O O O O O O O O O O \n",
      "O O O O O O O O O O \n",
      "O R O O O O O O O O \n",
      "\n"
     ]
    }
   ],
   "source": [
    "print(board)"
   ]
  },
  {
   "cell_type": "code",
   "execution_count": 48,
   "id": "d80f8a95-4a54-4404-834b-666656f8e27e",
   "metadata": {
    "tags": []
   },
   "outputs": [],
   "source": [
    "board.play_ia('B')"
   ]
  },
  {
   "cell_type": "code",
   "execution_count": 49,
   "id": "8922fcdc-e3ce-46de-ae73-ae554b3e06eb",
   "metadata": {
    "tags": []
   },
   "outputs": [
    {
     "data": {
      "text/plain": [
       "array([['O', 'O', 'O', 'O', 'O', 'O', 'O', 'O', 'O', 'O'],\n",
       "       ['O', 'O', 'O', 'O', 'O', 'O', 'O', 'O', 'O', 'O'],\n",
       "       ['O', 'O', 'O', 'O', 'O', 'O', 'O', 'O', 'O', 'O'],\n",
       "       ['O', 'O', 'O', 'O', 'O', 'O', 'O', 'O', 'O', 'O'],\n",
       "       ['B', 'R', 'O', 'O', 'O', 'O', 'O', 'O', 'O', 'O']], dtype='<U1')"
      ]
     },
     "execution_count": 49,
     "metadata": {},
     "output_type": "execute_result"
    }
   ],
   "source": [
    "board.grid"
   ]
  },
  {
   "cell_type": "code",
   "execution_count": 50,
   "id": "d3af5cdd-b048-4b50-a810-24c647c865e3",
   "metadata": {
    "tags": []
   },
   "outputs": [],
   "source": [
    "board.play_ia('B')"
   ]
  },
  {
   "cell_type": "code",
   "execution_count": 51,
   "id": "fe1e434c-198a-4a04-9269-986d92bf4d74",
   "metadata": {
    "tags": []
   },
   "outputs": [
    {
     "data": {
      "text/plain": [
       "array([['O', 'O', 'O', 'O', 'O', 'O', 'O', 'O', 'O', 'O'],\n",
       "       ['O', 'O', 'O', 'O', 'O', 'O', 'O', 'O', 'O', 'O'],\n",
       "       ['O', 'O', 'O', 'O', 'O', 'O', 'O', 'O', 'O', 'O'],\n",
       "       ['B', 'O', 'O', 'O', 'O', 'O', 'O', 'O', 'O', 'O'],\n",
       "       ['B', 'R', 'O', 'O', 'O', 'O', 'O', 'O', 'O', 'O']], dtype='<U1')"
      ]
     },
     "execution_count": 51,
     "metadata": {},
     "output_type": "execute_result"
    }
   ],
   "source": [
    "board.grid"
   ]
  },
  {
   "cell_type": "code",
   "execution_count": null,
   "id": "d767cc8c-61a4-4187-a71a-81b013860855",
   "metadata": {},
   "outputs": [],
   "source": []
  }
 ],
 "metadata": {
  "kernelspec": {
   "display_name": "Python 3 (ipykernel)",
   "language": "python",
   "name": "python3"
  },
  "language_info": {
   "codemirror_mode": {
    "name": "ipython",
    "version": 3
   },
   "file_extension": ".py",
   "mimetype": "text/x-python",
   "name": "python",
   "nbconvert_exporter": "python",
   "pygments_lexer": "ipython3",
   "version": "3.11.4"
  }
 },
 "nbformat": 4,
 "nbformat_minor": 5
}
