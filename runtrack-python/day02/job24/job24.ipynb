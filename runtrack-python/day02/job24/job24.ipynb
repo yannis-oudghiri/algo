{
 "cells": [
  {
   "cell_type": "code",
   "execution_count": 1,
   "id": "0416889a-2f57-45af-b823-bccbaf28e762",
   "metadata": {},
   "outputs": [],
   "source": [
    "import numpy as np"
   ]
  },
  {
   "cell_type": "code",
   "execution_count": 2,
   "id": "5fec4bcd-786e-4e0d-9154-0c6855c5eb4c",
   "metadata": {
    "tags": []
   },
   "outputs": [],
   "source": [
    "class Board():\n",
    "    def __init__(self,rows,columns):\n",
    "        self.rows = rows\n",
    "        self.columns = columns\n",
    "        self.grid = np.full((rows,columns), 'O')\n",
    "    \n",
    "    def __str__(self):\n",
    "        grid=''\n",
    "        for i in range(self.rows):\n",
    "            line = ''\n",
    "            for j in range(self.columns):\n",
    "                line += self.grid[i,j] + ' '\n",
    "            grid += line + '\\n'\n",
    "        return grid\n",
    "    \n",
    "    def is_full(self):\n",
    "        if np.sum(self.grid == 'O') == 0:\n",
    "            return True\n",
    "        else:\n",
    "            return False\n",
    "    \n",
    "    def height(self,j):\n",
    "        i = self.rows\n",
    "        b = False\n",
    "        while i >= 0 and b != True:\n",
    "            i -= 1\n",
    "            if self.grid[i,j] == 'O':\n",
    "                b=True\n",
    "        return i\n",
    "    \n",
    "    def play(self,j,color):\n",
    "        if self.height(j) >= 0:\n",
    "            self.grid[self.height(j),j] = color\n",
    "    \n",
    "    def win(self):\n",
    "        direction = [(1,0),(-1,0),(0,1),(0,-1),(1,1),(1,-1),(-1,1),(-1,-1)]\n",
    "        for row in range(self.rows):\n",
    "            for column in range(self.columns):\n",
    "                if self.grid[row,column] != 'O':\n",
    "                    for x,y in direction:\n",
    "                        for step in range(1,4):\n",
    "                            next_row = row + x*step\n",
    "                            next_column = column + x*step\n",
    "                            if 0 <= next_column < self.columns and 0 <= next_row < self.rows:\n",
    "                                if self.grid[next_row,next_column] == self.grid[row,column]:\n",
    "                                    if step==3:\n",
    "                                        return True\n",
    "                                else :\n",
    "                                    break\n",
    "        return False\n",
    "\n",
    "    def think(self,color):\n",
    "        tab = np.count_nonzero(self.grid != 'O',axis=0)\n",
    "        col = np.nanargmax(np.where(tab < self.rows, tab, np.nan))\n",
    "        print(tab)\n",
    "        return col\n",
    "\n",
    "    def play_ia(self,color):\n",
    "        self.play(self.think(color),color)"
   ]
  },
  {
   "cell_type": "code",
   "execution_count": 3,
   "id": "2c4fa5df",
   "metadata": {},
   "outputs": [],
   "source": [
    "def game(i,j):\n",
    "    player = 'R'\n",
    "    ia = 'B'\n",
    "    board = Board(i,j)\n",
    "    while board.win() == False or board.is_full() == False:\n",
    "         print('Column ?')\n",
    "         j = int(input())\n",
    "         board.play(j,player)\n",
    "         board.play_ia(ia)\n",
    "         print(board)"
   ]
  }
 ],
 "metadata": {
  "kernelspec": {
   "display_name": "Python 3 (ipykernel)",
   "language": "python",
   "name": "python3"
  },
  "language_info": {
   "codemirror_mode": {
    "name": "ipython",
    "version": 3
   },
   "file_extension": ".py",
   "mimetype": "text/x-python",
   "name": "python",
   "nbconvert_exporter": "python",
   "pygments_lexer": "ipython3",
   "version": "3.10.7"
  }
 },
 "nbformat": 4,
 "nbformat_minor": 5
}
