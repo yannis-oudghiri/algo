{
 "cells": [
  {
   "cell_type": "code",
   "execution_count": 2,
   "id": "7750ef00-593a-4c87-9715-49f5710fa7e5",
   "metadata": {
    "tags": []
   },
   "outputs": [],
   "source": [
    "import numpy as np"
   ]
  },
  {
   "cell_type": "code",
   "execution_count": null,
   "id": "08c3f7eb-3633-4616-9e62-2bc59c3ade60",
   "metadata": {},
   "outputs": [],
   "source": [
    "class Board():\n",
    "    def __init__(self,rows,columns):\n",
    "        self.rows = rows\n",
    "        self.columns = columns\n",
    "        self.grid = np.full((rows,columns), 'O')\n",
    "    \n",
    "    def __str__(self):\n",
    "        grid=''\n",
    "        for i in range(self.rows):\n",
    "            line = ''\n",
    "            for j in range(self.columns):\n",
    "                line += self.grid[i,j] + ' '\n",
    "            grid += line + '\\n'\n",
    "        return grid\n",
    "    \n",
    "    def height(self,j):\n",
    "        i = self.rows\n",
    "        b = False\n",
    "        while i >= 0 and b != True:\n",
    "            i -= 1\n",
    "            if self.grid[i,j] == 'O':\n",
    "                b=True\n",
    "        return i\n",
    "    \n",
    "    def play(self,j,color):\n",
    "        if self.height(j) >= 0:\n",
    "            self.grid[self.height(j),j] = color\n",
    "    \n",
    "    def win(self):\n",
    "        direction = [(1,0),(-1,0),(0,1),(0,-1),(1,1),(1,-1),(-1,1),(-1,-1)]\n",
    "        for row in range(self.rows):\n",
    "            for column in range(self.columns):\n",
    "                if self.grid[row,column] != 'O':\n",
    "                    for x,y in direction:\n",
    "                        for step in range(1,4):\n",
    "                            next_row = row + x*step\n",
    "                            next_column = column + x*step\n",
    "                            if 0 <= next_column < self.columns and 0 <= next_row < self.rows:\n",
    "                                if self.grid[next_row,next_column] == self.grid[row,column]:\n",
    "                                    if step==3:\n",
    "                                        return True\n",
    "                                else :\n",
    "                                    break\n",
    "        return False"
   ]
  },
  {
   "cell_type": "code",
   "execution_count": null,
   "id": "adf7e02f-3146-4345-8ecb-ffe8c729348f",
   "metadata": {},
   "outputs": [],
   "source": [
    "def main():\n",
    "    columns = int(input(\"enter columns : \"))\n",
    "    rows = int(input(\"enter rows : \"))\n",
    "    winner = False\n",
    "    board = Board(rows,columns)\n",
    "    current_player = 'R'\n",
    "    while winner:\n",
    "        print(board)\n",
    "        column = int(input(\"enter columns : \"))\n",
    "        if board.play(column,current_player):\n",
    "            winner = board.win()\n",
    "            if winner:\n",
    "                print('c')"
   ]
  }
 ],
 "metadata": {
  "kernelspec": {
   "display_name": "Python 3 (ipykernel)",
   "language": "python",
   "name": "python3"
  },
  "language_info": {
   "codemirror_mode": {
    "name": "ipython",
    "version": 3
   },
   "file_extension": ".py",
   "mimetype": "text/x-python",
   "name": "python",
   "nbconvert_exporter": "python",
   "pygments_lexer": "ipython3",
   "version": "3.11.4"
  }
 },
 "nbformat": 4,
 "nbformat_minor": 5
}
