{
 "cells": [
  {
   "cell_type": "code",
   "execution_count": 2,
   "id": "3ea98344-560a-463d-9943-6d2beac17beb",
   "metadata": {
    "tags": []
   },
   "outputs": [],
   "source": [
    "class Person:\n",
    "    def __init__(self,name,firstname):\n",
    "        self.__name = name\n",
    "        self.__firstname = firstname\n",
    "    \n",
    "    def sePresenter(self):\n",
    "        print(f\"I am {self.__firstname} {self.__name}\")\n",
    "    \n",
    "    def get_name(self):\n",
    "        return self.__name\n",
    "    \n",
    "    def get_firstname(self):\n",
    "        return self.__firstname\n",
    "    \n",
    "    def set_name(self, name):\n",
    "        self.__name = name\n",
    "    \n",
    "    def set_firstname(self, firstname):\n",
    "        self.__firstname = firstname"
   ]
  },
  {
   "cell_type": "code",
   "execution_count": 3,
   "id": "72d9d9f4-91aa-4cbe-925d-32a570ea2af4",
   "metadata": {
    "tags": []
   },
   "outputs": [],
   "source": [
    "class Book():\n",
    "    def __init__(self,title,author):\n",
    "        self.__title = title\n",
    "        self.__author = author\n",
    "    \n",
    "    def __str__(self):\n",
    "        return book.__title\n",
    "    \n",
    "    def get_title(self):\n",
    "        return self.__title\n",
    "    \n",
    "    def get_author(self):\n",
    "        return self.__author\n",
    "\n",
    "class Author(Person):\n",
    "    def __init__(self,name,firstname):\n",
    "        Person.__init__(self,name,firstname)\n",
    "        self.__list_of_books = []\n",
    "    \n",
    "    def get_name(self):\n",
    "        return self.__firstname + ' ' + self.__name\n",
    "    \n",
    "    def listerWork(self):\n",
    "        for book in self.__list_of_books:\n",
    "            print(book.get_title())\n",
    "    \n",
    "    def writeABook(self,title):\n",
    "        book = Book(title,self)\n",
    "        self.__list_of_books.append(book)\n",
    "    \n",
    "    def get_title(self):\n",
    "        titles = []\n",
    "        for book in self.__list_of_books:\n",
    "            titles.append(book.get_title())\n",
    "        return titles"
   ]
  },
  {
   "cell_type": "code",
   "execution_count": 4,
   "id": "e81deb6a-7afb-42bf-85c7-30cc1dfd8b9c",
   "metadata": {
    "tags": []
   },
   "outputs": [],
   "source": [
    "verne = Author('Verne','Jules')\n",
    "verne.writeABook('Lune Rouge')\n",
    "verne.writeABook('Lune Verte')\n",
    "verne.writeABook('Lune Orange')"
   ]
  },
  {
   "cell_type": "code",
   "execution_count": 5,
   "id": "4fbfe93d-ae1e-4b3b-b029-a0a5f5b1abf9",
   "metadata": {
    "tags": []
   },
   "outputs": [
    {
     "data": {
      "text/plain": [
       "['Lune Rouge', 'Lune Verte', 'Lune Orange']"
      ]
     },
     "execution_count": 5,
     "metadata": {},
     "output_type": "execute_result"
    }
   ],
   "source": [
    "verne.get_title()"
   ]
  },
  {
   "cell_type": "code",
   "execution_count": null,
   "id": "96077135-b9de-48ed-b53b-c3a38f22f7b3",
   "metadata": {},
   "outputs": [],
   "source": []
  }
 ],
 "metadata": {
  "kernelspec": {
   "display_name": "Python 3 (ipykernel)",
   "language": "python",
   "name": "python3"
  },
  "language_info": {
   "codemirror_mode": {
    "name": "ipython",
    "version": 3
   },
   "file_extension": ".py",
   "mimetype": "text/x-python",
   "name": "python",
   "nbconvert_exporter": "python",
   "pygments_lexer": "ipython3",
   "version": "3.11.4"
  }
 },
 "nbformat": 4,
 "nbformat_minor": 5
}
