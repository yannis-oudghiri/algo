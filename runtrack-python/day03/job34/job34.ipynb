{
 "cells": [
  {
   "cell_type": "code",
   "execution_count": 3,
   "id": "de631074-0fb5-4ceb-bfc3-c92467ca55a9",
   "metadata": {
    "tags": []
   },
   "outputs": [],
   "source": [
    "import re"
   ]
  },
  {
   "cell_type": "code",
   "execution_count": 4,
   "id": "72e21af0-1fa2-4cf8-8ac1-0c7c2a0965fa",
   "metadata": {
    "tags": []
   },
   "outputs": [],
   "source": [
    "f = open('../job33/data.txt','r')\n",
    "txt = f.read()"
   ]
  },
  {
   "cell_type": "code",
   "execution_count": 5,
   "id": "5ca58e06-3834-49d2-9db3-959807246c50",
   "metadata": {
    "tags": []
   },
   "outputs": [
    {
     "name": "stdout",
     "output_type": "stream",
     "text": [
      "size of the word ?\n"
     ]
    },
    {
     "name": "stdin",
     "output_type": "stream",
     "text": [
      " 5\n"
     ]
    },
    {
     "name": "stdout",
     "output_type": "stream",
     "text": [
      "number of word with the size 5 -> 166600\n"
     ]
    }
   ],
   "source": [
    "print('size of the word ?')\n",
    "size = input()\n",
    "words = re.findall('\\w+',txt)\n",
    "number_word = 0\n",
    "for w in words :\n",
    "    if len(w) == int(size):\n",
    "        number_word += 1\n",
    "print(f'number of word with the size {size} -> {number_word}')"
   ]
  }
 ],
 "metadata": {
  "kernelspec": {
   "display_name": "Python 3 (ipykernel)",
   "language": "python",
   "name": "python3"
  },
  "language_info": {
   "codemirror_mode": {
    "name": "ipython",
    "version": 3
   },
   "file_extension": ".py",
   "mimetype": "text/x-python",
   "name": "python",
   "nbconvert_exporter": "python",
   "pygments_lexer": "ipython3",
   "version": "3.11.4"
  }
 },
 "nbformat": 4,
 "nbformat_minor": 5
}
