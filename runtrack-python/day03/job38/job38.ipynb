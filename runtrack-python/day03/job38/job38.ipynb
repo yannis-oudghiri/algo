{
 "cells": [
  {
   "cell_type": "code",
   "execution_count": 1,
   "id": "ed43ab93-654b-45eb-809e-5ad696819843",
   "metadata": {
    "tags": []
   },
   "outputs": [],
   "source": [
    "import random\n",
    "import re\n",
    "import matplotlib.pylab as plt"
   ]
  },
  {
   "cell_type": "code",
   "execution_count": 2,
   "id": "564bd19b-100f-478e-a9f2-061e4dda6ba8",
   "metadata": {
    "tags": []
   },
   "outputs": [],
   "source": [
    "f = open('../job33/data.txt','r')\n",
    "txt = f.read()\n",
    "txt_lower = txt.lower()"
   ]
  },
  {
   "cell_type": "code",
   "execution_count": 3,
   "id": "f4e2a0ec-5b32-42f5-9a30-ed006b884e62",
   "metadata": {
    "tags": []
   },
   "outputs": [],
   "source": [
    "word_size = []\n",
    "words = re.findall('\\w+',txt)\n",
    "for size in range(1,20):\n",
    "    number_word = 0\n",
    "    for w in words :\n",
    "        if len(w) == int(size):\n",
    "            number_word += 1\n",
    "    word_size.append(number_word/len(words))"
   ]
  },
  {
   "cell_type": "code",
   "execution_count": 4,
   "id": "917d17c7-5d86-4d9f-bbb7-3afaba7523c8",
   "metadata": {
    "tags": []
   },
   "outputs": [],
   "source": [
    "first_letter = re.findall('(?:\\W|^)(\\w)',txt_lower)\n",
    "alphabet = ['a', 'b', 'c', 'd', 'e', 'f', 'g', 'h', 'i', 'j', 'k', 'l', 'm', 'n', 'o', 'p', 'q', 'r', 's', 't', 'u', 'v', 'w', 'x', 'y', 'z']\n",
    "freq_first_letter = []\n",
    "for letter in alphabet:\n",
    "    freq_first_letter.append(first_letter.count(letter)/len(first_letter))"
   ]
  },
  {
   "cell_type": "code",
   "execution_count": 5,
   "id": "62e78c48-c1e6-4fb1-a89b-18a468a72cea",
   "metadata": {
    "tags": []
   },
   "outputs": [],
   "source": [
    "alphabet = ['a', 'b', 'c', 'd', 'e', 'f', 'g', 'h', 'i', 'j', 'k', 'l', 'm', 'n', 'o', 'p', 'q', 'r', 's', 't', 'u', 'v', 'w', 'x', 'y', 'z']\n",
    "dic = {}\n",
    "for letter in alphabet:\n",
    "    pattern = '(?:\\W|^)(?:' + letter + ')(\\w)'\n",
    "    letter_after = re.findall(pattern,txt_lower)\n",
    "    occurencies = []\n",
    "    for letter_2 in alphabet:\n",
    "        if not len(letter_after) == 0:\n",
    "            occurencies.append(letter_after.count(letter_2)/len(letter_after))\n",
    "        dic[letter] = occurencies"
   ]
  },
  {
   "cell_type": "code",
   "execution_count": 6,
   "id": "40ecc910-545b-4659-a11c-55494bf1cfba",
   "metadata": {
    "tags": []
   },
   "outputs": [],
   "source": [
    "def generate_word():\n",
    "    [length] = random.choices(range(1,20),word_size)\n",
    "    [new_word] = random.choices(alphabet,freq_first_letter)\n",
    "    for n in range(length):\n",
    "        new_word += random.choices(alphabet,dic[new_word[-1]])[0]\n",
    "    return new_word"
   ]
  },
  {
   "cell_type": "code",
   "execution_count": 7,
   "id": "0c1cb51b-a60d-4156-90cd-47bf76ebd4da",
   "metadata": {
    "tags": []
   },
   "outputs": [
    {
     "data": {
      "text/plain": [
       "['gegesiu',\n",
       " 'atu',\n",
       " 'nutet',\n",
       " 'ideresp',\n",
       " 'niseteseom',\n",
       " 'enom',\n",
       " 'omofut',\n",
       " 'resesopetina',\n",
       " 'sisex',\n",
       " 'sautut']"
      ]
     },
     "execution_count": 7,
     "metadata": {},
     "output_type": "execute_result"
    }
   ],
   "source": [
    "[generate_word() for x in range(10)]"
   ]
  }
 ],
 "metadata": {
  "kernelspec": {
   "display_name": "Python 3 (ipykernel)",
   "language": "python",
   "name": "python3"
  },
  "language_info": {
   "codemirror_mode": {
    "name": "ipython",
    "version": 3
   },
   "file_extension": ".py",
   "mimetype": "text/x-python",
   "name": "python",
   "nbconvert_exporter": "python",
   "pygments_lexer": "ipython3",
   "version": "3.11.4"
  }
 },
 "nbformat": 4,
 "nbformat_minor": 5
}
