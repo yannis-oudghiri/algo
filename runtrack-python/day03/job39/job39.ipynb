{
 "cells": [
  {
   "cell_type": "code",
   "execution_count": 1,
   "id": "ed43ab93-654b-45eb-809e-5ad696819843",
   "metadata": {
    "tags": []
   },
   "outputs": [],
   "source": [
    "import random\n",
    "import re\n",
    "import matplotlib.pylab as plt"
   ]
  },
  {
   "cell_type": "code",
   "execution_count": 2,
   "id": "564bd19b-100f-478e-a9f2-061e4dda6ba8",
   "metadata": {
    "tags": []
   },
   "outputs": [],
   "source": [
    "f = open('../job33/data.txt','r')\n",
    "txt = f.read()\n",
    "txt_lower = txt.lower()"
   ]
  },
  {
   "cell_type": "code",
   "execution_count": 3,
   "id": "f4e2a0ec-5b32-42f5-9a30-ed006b884e62",
   "metadata": {
    "tags": []
   },
   "outputs": [],
   "source": [
    "word_size = []\n",
    "words = re.findall('\\w+',txt)\n",
    "for size in range(1,20):\n",
    "    number_word = 0\n",
    "    for w in words :\n",
    "        if len(w) == int(size):\n",
    "            number_word += 1\n",
    "    word_size.append(number_word/len(words))"
   ]
  },
  {
   "cell_type": "code",
   "execution_count": 4,
   "id": "917d17c7-5d86-4d9f-bbb7-3afaba7523c8",
   "metadata": {
    "tags": []
   },
   "outputs": [],
   "source": [
    "first_letter = re.findall('(?:\\W|^)(\\w)',txt_lower)\n",
    "alphabet = ['a', 'b', 'c', 'd', 'e', 'f', 'g', 'h', 'i', 'j', 'k', 'l', 'm', 'n', 'o', 'p', 'q', 'r', 's', 't', 'u', 'v', 'w', 'x', 'y', 'z']\n",
    "freq_first_letter = []\n",
    "for letter in alphabet:\n",
    "    freq_first_letter.append(first_letter.count(letter)/len(first_letter))"
   ]
  },
  {
   "cell_type": "code",
   "execution_count": 5,
   "id": "62e78c48-c1e6-4fb1-a89b-18a468a72cea",
   "metadata": {
    "tags": []
   },
   "outputs": [],
   "source": [
    "alphabet = ['a', 'b', 'c', 'd', 'e', 'f', 'g', 'h', 'i', 'j', 'k', 'l', 'm', 'n', 'o', 'p', 'q', 'r', 's', 't', 'u', 'v', 'w', 'x', 'y', 'z']\n",
    "dic = {}\n",
    "for letter in alphabet:\n",
    "    pattern = '(?:\\W|^)(?:' + letter + ')(\\w)'\n",
    "    letter_after = re.findall(pattern,txt_lower)\n",
    "    occurencies = []\n",
    "    for letter_2 in alphabet:\n",
    "        if not len(letter_after) == 0:\n",
    "            occurencies.append(letter_after.count(letter_2)/len(letter_after))\n",
    "        dic[letter] = occurencies"
   ]
  },
  {
   "cell_type": "code",
   "execution_count": 6,
   "id": "40ecc910-545b-4659-a11c-55494bf1cfba",
   "metadata": {
    "tags": []
   },
   "outputs": [],
   "source": [
    "def generate_word():\n",
    "    [length] = random.choices(range(1,20),word_size)\n",
    "    [new_word] = random.choices(alphabet,freq_first_letter)\n",
    "    for n in range(length):\n",
    "        new_word += random.choices(alphabet,dic[new_word[-1]])[0]\n",
    "    return new_word"
   ]
  },
  {
   "cell_type": "code",
   "execution_count": 7,
   "id": "0c1cb51b-a60d-4156-90cd-47bf76ebd4da",
   "metadata": {
    "tags": []
   },
   "outputs": [],
   "source": [
    "sentences = txt.split('.')\n",
    "number_words = [len(re.findall('\\w+',s)) for s in sentences]\n",
    "number_sentences = len(sentences)\n",
    "max_words = max(number_words)\n",
    "freq_words = [0]*max_words\n",
    "for n in number_words:\n",
    "    freq_words[n-1] += 1"
   ]
  },
  {
   "cell_type": "code",
   "execution_count": 8,
   "id": "a450ec1f-0111-42f5-b411-50a55f9b95f3",
   "metadata": {
    "tags": []
   },
   "outputs": [],
   "source": [
    "def generate_sentence():\n",
    "    sentence = generate_word().capitalize()\n",
    "    [length] = random.choices(range(1,max_words+1),freq_words)\n",
    "    for n in range(length):\n",
    "        sentence += ' ' + generate_word()\n",
    "    return sentence + '.'"
   ]
  },
  {
   "cell_type": "code",
   "execution_count": 9,
   "id": "000ec126-20f3-492f-a309-d14013a85c20",
   "metadata": {
    "tags": []
   },
   "outputs": [
    {
     "data": {
      "text/plain": [
       "'Sigut doresu noces seto tetroprhino taut asesexes mar dunau setab sesinof ulepo alipomautest cutiutinau sute homii.'"
      ]
     },
     "execution_count": 9,
     "metadata": {},
     "output_type": "execute_result"
    }
   ],
   "source": [
    "generate_sentence()"
   ]
  }
 ],
 "metadata": {
  "kernelspec": {
   "display_name": "Python 3 (ipykernel)",
   "language": "python",
   "name": "python3"
  },
  "language_info": {
   "codemirror_mode": {
    "name": "ipython",
    "version": 3
   },
   "file_extension": ".py",
   "mimetype": "text/x-python",
   "name": "python",
   "nbconvert_exporter": "python",
   "pygments_lexer": "ipython3",
   "version": "3.11.4"
  }
 },
 "nbformat": 4,
 "nbformat_minor": 5
}
