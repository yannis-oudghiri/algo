{
 "cells": [
  {
   "cell_type": "code",
   "execution_count": 1,
   "id": "bd04de51-9c3a-4d9a-8aab-19badff19004",
   "metadata": {
    "tags": []
   },
   "outputs": [],
   "source": [
    "L = [32,33,82,83,84,85]"
   ]
  },
  {
   "cell_type": "code",
   "execution_count": 2,
   "id": "1886b218-e319-4b2f-9f49-6c45a18c6c71",
   "metadata": {
    "tags": []
   },
   "outputs": [],
   "source": [
    "def round_luke(scores):\n",
    "    L = []\n",
    "    for m in scores:\n",
    "        if m < 40:\n",
    "            L.append(m)\n",
    "        else:\n",
    "            if m%5==3:\n",
    "                L.append(m+2)\n",
    "            elif m%5==4:\n",
    "                L.append(m+1)\n",
    "            else:\n",
    "                L.append(m)\n",
    "            \n",
    "    return L"
   ]
  },
  {
   "cell_type": "code",
   "execution_count": 3,
   "id": "10307d42-6621-4f70-bb92-eaa4ba3e3163",
   "metadata": {
    "tags": []
   },
   "outputs": [
    {
     "data": {
      "text/plain": [
       "[32, 33, 82, 85, 85, 85]"
      ]
     },
     "execution_count": 3,
     "metadata": {},
     "output_type": "execute_result"
    }
   ],
   "source": [
    "round_luke(L)"
   ]
  }
 ],
 "metadata": {
  "kernelspec": {
   "display_name": "Python 3 (ipykernel)",
   "language": "python",
   "name": "python3"
  },
  "language_info": {
   "codemirror_mode": {
    "name": "ipython",
    "version": 3
   },
   "file_extension": ".py",
   "mimetype": "text/x-python",
   "name": "python",
   "nbconvert_exporter": "python",
   "pygments_lexer": "ipython3",
   "version": "3.11.4"
  }
 },
 "nbformat": 4,
 "nbformat_minor": 5
}
