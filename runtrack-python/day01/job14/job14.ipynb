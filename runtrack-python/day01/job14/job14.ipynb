{
 "cells": [
  {
   "cell_type": "code",
   "execution_count": 5,
   "id": "73b59f4d-062f-4e4c-be2a-c6c994b46584",
   "metadata": {},
   "outputs": [],
   "source": [
    "def in_desc_order(str) :\n",
    "    n = len(str)\n",
    "    b = True\n",
    "    for i in range(n-1) :\n",
    "        b = b and str[i]>str[i+1]\n",
    "    return(b)\n",
    "\n",
    "def order_str(str) :\n",
    "    res = str\n",
    "    n = len(str)\n",
    "    for i in range(n, 0, -1) :\n",
    "        for j in range(i-1) :\n",
    "            if res[j]>res[j+1] :\n",
    "                res = res[:j]+res[j+1]+res[j]+res[j+2:]\n",
    "    return(res)\n",
    "\n",
    "def next(str) :\n",
    "    n = len(str)\n",
    "    for i in range(2,n+1) :\n",
    "        end = str[-i:]\n",
    "        if (not in_desc_order(end)) :\n",
    "            end = end[1]+order_str(end[0]+end[2:])\n",
    "            return(str[:-i]+end)\n",
    "    return(str)"
   ]
  },
  {
   "cell_type": "code",
   "execution_count": 6,
   "id": "5a5915d2",
   "metadata": {},
   "outputs": [
    {
     "data": {
      "text/plain": [
       "'abecd'"
      ]
     },
     "execution_count": 6,
     "metadata": {},
     "output_type": "execute_result"
    }
   ],
   "source": [
    "next('abced')"
   ]
  }
 ],
 "metadata": {
  "kernelspec": {
   "display_name": "Python 3 (ipykernel)",
   "language": "python",
   "name": "python3"
  },
  "language_info": {
   "codemirror_mode": {
    "name": "ipython",
    "version": 3
   },
   "file_extension": ".py",
   "mimetype": "text/x-python",
   "name": "python",
   "nbconvert_exporter": "python",
   "pygments_lexer": "ipython3",
   "version": "3.11.4"
  }
 },
 "nbformat": 4,
 "nbformat_minor": 5
}
