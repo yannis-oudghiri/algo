{
 "cells": [
  {
   "cell_type": "code",
   "execution_count": 1,
   "id": "f076a27f-c0d0-4070-99fb-93b8ff2997b1",
   "metadata": {
    "tags": []
   },
   "outputs": [],
   "source": [
    "def draw_triangle(height):\n",
    "    n = height\n",
    "    for i in range(n):\n",
    "        if i < n-1 :\n",
    "            print(' '*(n-1-i) + '/' + ' '*2*i + '\\\\' + ' '*(n-1-i))\n",
    "        else :\n",
    "            print(' '*(n-1-i) + '/' + '_'*2*i + '\\\\' + ' '*(n-1-i))"
   ]
  },
  {
   "cell_type": "code",
   "execution_count": 2,
   "id": "fc5d34ba-2401-4f95-8718-46078a7ef08d",
   "metadata": {
    "tags": []
   },
   "outputs": [
    {
     "name": "stdout",
     "output_type": "stream",
     "text": [
      "         /\\         \n",
      "        /  \\        \n",
      "       /    \\       \n",
      "      /      \\      \n",
      "     /        \\     \n",
      "    /          \\    \n",
      "   /            \\   \n",
      "  /              \\  \n",
      " /                \\ \n",
      "/__________________\\\n"
     ]
    }
   ],
   "source": [
    "draw_triangle(10)"
   ]
  }
 ],
 "metadata": {
  "kernelspec": {
   "display_name": "Python 3 (ipykernel)",
   "language": "python",
   "name": "python3"
  },
  "language_info": {
   "codemirror_mode": {
    "name": "ipython",
    "version": 3
   },
   "file_extension": ".py",
   "mimetype": "text/x-python",
   "name": "python",
   "nbconvert_exporter": "python",
   "pygments_lexer": "ipython3",
   "version": "3.11.4"
  }
 },
 "nbformat": 4,
 "nbformat_minor": 5
}
