{
 "cells": [
  {
   "cell_type": "code",
   "execution_count": 1,
   "id": "f076a27f-c0d0-4070-99fb-93b8ff2997b1",
   "metadata": {
    "tags": []
   },
   "outputs": [],
   "source": [
    "def draw_rectangle(width,height):\n",
    "    for i in range(height):\n",
    "        if i==0 or i==(height-1):\n",
    "            print('|' + '-'*(width-2) + '|')\n",
    "        else:\n",
    "            print('|' + ' '*(width-2) + '|')"
   ]
  },
  {
   "cell_type": "code",
   "execution_count": 3,
   "id": "fc5d34ba-2401-4f95-8718-46078a7ef08d",
   "metadata": {
    "tags": []
   },
   "outputs": [
    {
     "name": "stdout",
     "output_type": "stream",
     "text": [
      "|--------|\n",
      "|        |\n",
      "|        |\n",
      "|        |\n",
      "|        |\n",
      "|        |\n",
      "|        |\n",
      "|        |\n",
      "|        |\n",
      "|        |\n",
      "|        |\n",
      "|        |\n",
      "|        |\n",
      "|        |\n",
      "|--------|\n"
     ]
    }
   ],
   "source": [
    "draw_rectangle(10,15)"
   ]
  }
 ],
 "metadata": {
  "kernelspec": {
   "display_name": "Python 3 (ipykernel)",
   "language": "python",
   "name": "python3"
  },
  "language_info": {
   "codemirror_mode": {
    "name": "ipython",
    "version": 3
   },
   "file_extension": ".py",
   "mimetype": "text/x-python",
   "name": "python",
   "nbconvert_exporter": "python",
   "pygments_lexer": "ipython3",
   "version": "3.11.4"
  }
 },
 "nbformat": 4,
 "nbformat_minor": 5
}
