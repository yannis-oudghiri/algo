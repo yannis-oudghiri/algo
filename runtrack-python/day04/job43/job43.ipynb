{
 "cells": [
  {
   "cell_type": "code",
   "execution_count": 1,
   "id": "f89a4f2f-848b-4402-ac3b-20abd234ac73",
   "metadata": {},
   "outputs": [],
   "source": [
    "import numpy as np\n",
    "import matplotlib.pyplot as plt\n",
    "from matplotlib.colors import LinearSegmentedColormap, ListedColormap"
   ]
  },
  {
   "cell_type": "code",
   "execution_count": 2,
   "id": "baa1964d-8147-4808-ae8e-e34eba326610",
   "metadata": {
    "tags": []
   },
   "outputs": [],
   "source": [
    "def voisins(arr,a):\n",
    "    voisins = []\n",
    "    (i,j) = a\n",
    "    n,m = arr.shape\n",
    "    if i+1<n and arr[i+1,j] != 1:\n",
    "        voisins.append(np.array([i+1,j]))\n",
    "    if i-1>= 0 and arr[i-1,j] != 1:\n",
    "        voisins.append(np.array([i-1,j]))\n",
    "    if j+1<m and arr[i,j+1] != 1:\n",
    "        voisins.append(np.array([i,j+1]))\n",
    "    if j-1 >= 0 and arr[i,j-1] != 1:\n",
    "        voisins.append(np.array([i,j-1]))\n",
    "    return voisins"
   ]
  },
  {
   "cell_type": "code",
   "execution_count": 3,
   "id": "e1236537-9b94-4c60-8a4a-26289dad8c23",
   "metadata": {
    "tags": []
   },
   "outputs": [],
   "source": [
    "def number_nodes(arr):\n",
    "    return (arr != 1).sum()"
   ]
  },
  {
   "cell_type": "code",
   "execution_count": 4,
   "id": "6f2f4a81-db2e-47f5-a0e9-25e46b92c115",
   "metadata": {
    "tags": []
   },
   "outputs": [],
   "source": [
    "def minimum_distance_P(d,P):\n",
    "    new_d = np.copy(d)\n",
    "    for (x,y) in P:\n",
    "        new_d[x,y] = np.inf\n",
    "    return np.array(np.unravel_index(np.argmin(new_d, axis=None), new_d.shape))"
   ]
  },
  {
   "cell_type": "code",
   "execution_count": 5,
   "id": "732a330a-7513-4016-9bca-1a562aadf1f2",
   "metadata": {
    "tags": []
   },
   "outputs": [],
   "source": [
    "def dijkstra(arr):\n",
    "    P=[]\n",
    "    d = np.Inf*np.ones(arr.shape)\n",
    "    d[0,0] = 0\n",
    "    n=0\n",
    "    nn = number_nodes(arr)\n",
    "    predecessor ={}\n",
    "    \n",
    "    while n < 10000 and len(P) < nn:\n",
    "        n += 1\n",
    "        a = minimum_distance_P(d,P)\n",
    "        P.append(a)\n",
    "        for b in voisins(arr,a):\n",
    "            if not (np.any(np.all(b == P, axis=1))):\n",
    "                if d[tuple(b)] > d[tuple(a)] + 1:\n",
    "                    d[tuple(b)] = d[tuple(a)] + 1\n",
    "                    predecessor[tuple(b)] = tuple(a)\n",
    "    return predecessor"
   ]
  },
  {
   "cell_type": "code",
   "execution_count": 6,
   "id": "1c4f3ad3-a752-4a4f-839a-b4766083a817",
   "metadata": {
    "tags": []
   },
   "outputs": [],
   "source": [
    "def shortest_path(arr):\n",
    "    pred = dijkstra(arr)\n",
    "    A = []\n",
    "    x,y = maze_num.shape\n",
    "    s = (x-1,y-1)\n",
    "    n=0\n",
    "    while s != (0,0) and n < 100:\n",
    "        A.insert(0,s)\n",
    "        s = pred[s]\n",
    "    a = (0,0)\n",
    "    A.insert(0,a)\n",
    "    return A"
   ]
  },
  {
   "cell_type": "code",
   "execution_count": 7,
   "id": "8bf087b8-be60-4034-9646-a3dbac2c91a9",
   "metadata": {
    "tags": []
   },
   "outputs": [],
   "source": [
    "f = open('maze.mz.txt','r')\n",
    "maze = f.read().split()"
   ]
  },
  {
   "cell_type": "code",
   "execution_count": 8,
   "id": "8081be13-3859-476c-a2a4-994e07398915",
   "metadata": {
    "tags": []
   },
   "outputs": [],
   "source": [
    "maze_num = np.zeros((101,101))\n",
    "for i in range(101):\n",
    "    for j in range(50):\n",
    "        if maze[i][3*j] == '#':\n",
    "            maze_num[i,2*j] = 1\n",
    "        else:\n",
    "            maze_num[i,2*j] = 0\n",
    "        if maze[i][3*j+1] == '#':\n",
    "            maze_num[i,2*j+1] = 1\n",
    "        else:\n",
    "            maze_num[i,2*j+1] = 0\n",
    "    if maze[i][150] == '#':\n",
    "            maze_num[i,100] = 1\n",
    "    else:\n",
    "            maze_num[i,100] = 0"
   ]
  },
  {
   "cell_type": "code",
   "execution_count": 9,
   "id": "3d61d693-9d0d-4136-b55c-61a0de13ff7f",
   "metadata": {
    "tags": []
   },
   "outputs": [
    {
     "data": {
      "image/png": "[encoded data removed]",
      "text/plain": [
       "<Figure size 640x480 with 1 Axes>"
      ]
     },
     "metadata": {},
     "output_type": "display_data"
    }
   ],
   "source": [
    "fig, ax = plt.subplots()\n",
    "cmap = ListedColormap([\"white\", \"black\"])\n",
    "im = ax.imshow(maze_num, cmap=cmap)\n",
    "\n",
    "plt.show()"
   ]
  },
  {
   "cell_type": "code",
   "execution_count": 10,
   "id": "787f68e6-d1c6-4af6-8db0-7877c94162c9",
   "metadata": {
    "tags": []
   },
   "outputs": [],
   "source": [
    "path = shortest_path(maze_num)"
   ]
  },
  {
   "cell_type": "code",
   "execution_count": 11,
   "id": "83083ecc-2313-4dac-b070-cd6ae6c9e352",
   "metadata": {
    "tags": []
   },
   "outputs": [
    {
     "data": {
      "text/plain": [
       "array([[2., 2., 1., ..., 1., 1., 1.],\n",
       "       [0., 2., 0., ..., 1., 0., 1.],\n",
       "       [1., 2., 1., ..., 1., 0., 1.],\n",
       "       ...,\n",
       "       [1., 0., 1., ..., 1., 2., 1.],\n",
       "       [1., 0., 0., ..., 1., 2., 1.],\n",
       "       [1., 1., 1., ..., 1., 2., 2.]])"
      ]
     },
     "execution_count": 11,
     "metadata": {},
     "output_type": "execute_result"
    }
   ],
   "source": [
    "maze_resolved = maze_num.copy() \n",
    "for (x,y) in path:\n",
    "    maze_resolved[x,y] = 2\n",
    "maze_resolved"
   ]
  },
  {
   "cell_type": "code",
   "execution_count": 12,
   "id": "6fff2c44-e314-4aab-b203-e053b901d578",
   "metadata": {
    "tags": []
   },
   "outputs": [
    {
     "data": {
      "image/png": "[encoded data removed]",
      "text/plain": [
       "<Figure size 640x480 with 1 Axes>"
      ]
     },
     "metadata": {},
     "output_type": "display_data"
    }
   ],
   "source": [
    "fig, ax = plt.subplots()\n",
    "cmap = ListedColormap([\"white\", \"black\", \"red\"])\n",
    "im = ax.imshow(maze_resolved, cmap=cmap)\n",
    "\n",
    "plt.show()"
   ]
  }
 ],
 "metadata": {
  "kernelspec": {
   "display_name": "Python 3 (ipykernel)",
   "language": "python",
   "name": "python3"
  },
  "language_info": {
   "codemirror_mode": {
    "name": "ipython",
    "version": 3
   },
   "file_extension": ".py",
   "mimetype": "text/x-python",
   "name": "python",
   "nbconvert_exporter": "python",
   "pygments_lexer": "ipython3",
   "version": "3.11.4"
  }
 },
 "nbformat": 4,
 "nbformat_minor": 5
}
