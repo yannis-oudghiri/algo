{
 "cells": [
  {
   "cell_type": "code",
   "execution_count": 1,
   "id": "b5f9cf34-6678-4852-90ac-59f8434d272c",
   "metadata": {
    "tags": []
   },
   "outputs": [],
   "source": [
    "def compare_string(str1,str2):\n",
    "    if str1 == str2:\n",
    "        print('1')\n",
    "    elif str1[0] == str2[0]:\n",
    "        if len(str1) > 1 and len(str2) > 1:\n",
    "            compare_string(str1[1:],str2[1:])\n",
    "        elif len(str1) == 1:\n",
    "            compare_string(str1,str2[1:])\n",
    "        else:\n",
    "            compare_string(str1[1:],str2)\n",
    "    if str1[0] == '*':\n",
    "        compare_string(str1[1:],str2)\n",
    "    elif str2[0] == '*':\n",
    "        compare_string(str1,str2[1:])\n",
    "    elif str1[0] != str2[0]:\n",
    "        print('0')"
   ]
  },
  {
   "cell_type": "code",
   "execution_count": 5,
   "id": "fa8a850b-80c9-43b3-b74c-2b21e034bca5",
   "metadata": {
    "tags": []
   },
   "outputs": [
    {
     "name": "stdout",
     "output_type": "stream",
     "text": [
      "1\n"
     ]
    }
   ],
   "source": [
    "compare_string('valise','v***a***l***ise')"
   ]
  }
 ],
 "metadata": {
  "kernelspec": {
   "display_name": "Python 3 (ipykernel)",
   "language": "python",
   "name": "python3"
  },
  "language_info": {
   "codemirror_mode": {
    "name": "ipython",
    "version": 3
   },
   "file_extension": ".py",
   "mimetype": "text/x-python",
   "name": "python",
   "nbconvert_exporter": "python",
   "pygments_lexer": "ipython3",
   "version": "3.11.4"
  }
 },
 "nbformat": 4,
 "nbformat_minor": 5
}
