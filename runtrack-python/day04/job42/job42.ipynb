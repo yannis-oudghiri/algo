{
 "cells": [
  {
   "cell_type": "code",
   "execution_count": 1,
   "id": "863ef439-131b-4414-a1e0-e61f9cc20880",
   "metadata": {
    "tags": []
   },
   "outputs": [],
   "source": [
    "import numpy as np\n",
    "import matplotlib.pyplot as plt\n",
    "from matplotlib.colors import ListedColormap"
   ]
  },
  {
   "cell_type": "code",
   "execution_count": 2,
   "id": "346a49ca-1bdb-4de0-b743-a9e047fcb4be",
   "metadata": {
    "tags": []
   },
   "outputs": [],
   "source": [
    "n = 10"
   ]
  },
  {
   "cell_type": "code",
   "execution_count": 3,
   "id": "e4b4f64f-b585-464c-b7d3-09cb3b5984e8",
   "metadata": {
    "tags": []
   },
   "outputs": [],
   "source": [
    "game_board = np.zeros((n,n))\n",
    "(x,y) = np.random.randint(10,size = 2)\n",
    "game_board[x,y] = 1"
   ]
  },
  {
   "cell_type": "code",
   "execution_count": 4,
   "id": "afebc559-5526-4548-8913-a1ee283bc56c",
   "metadata": {
    "tags": []
   },
   "outputs": [
    {
     "data": {
      "image/png": "[encoded data removed]",
      "text/plain": [
       "<Figure size 640x480 with 1 Axes>"
      ]
     },
     "metadata": {},
     "output_type": "display_data"
    }
   ],
   "source": [
    "fig, ax = plt.subplots()\n",
    "cmap = ListedColormap([\"white\", \"black\"])\n",
    "im = ax.imshow(game_board, cmap=cmap)\n",
    "\n",
    "plt.show()"
   ]
  },
  {
   "cell_type": "code",
   "execution_count": 5,
   "id": "94c7bdd2-56ad-4927-91b8-66b0558fb061",
   "metadata": {
    "tags": []
   },
   "outputs": [],
   "source": [
    "def draw_diagonales(x,y):\n",
    "    game_board = np.zeros((n,n))\n",
    "    game_board[x,y] = 1\n",
    "    for i in range(1,min(n-x,n-y)):\n",
    "        game_board[x+i,y+i] = 2\n",
    "    for i in range(min(x,y),0,-1):\n",
    "        game_board[x-i,y-i] = 2\n",
    "    for i in range(max(0,x+y-n+1),x):\n",
    "        game_board[i,x+y-i] = 2\n",
    "    for i in range(x+1,min(x+y+1,n)):\n",
    "        game_board[i,x+y-i] = 2\n",
    "    for i in range(0,x):\n",
    "        game_board[i,y] = 2\n",
    "    for i in range(x+1,n):\n",
    "        game_board[i,y] = 2\n",
    "    for j in range(0,y):\n",
    "        game_board[x,j] = 2\n",
    "    for j in range(y+1,n):\n",
    "        game_board[x,j] = 2\n",
    "    fig, ax = plt.subplots()\n",
    "    cmap = ListedColormap([\"white\", \"black\",\"red\"])\n",
    "    im = ax.imshow(game_board, cmap=cmap)\n",
    "    plt.show()"
   ]
  },
  {
   "cell_type": "code",
   "execution_count": 6,
   "id": "5397fe6c-b65c-4fa5-9585-52410de451f5",
   "metadata": {
    "tags": []
   },
   "outputs": [
    {
     "data": {
      "image/png": "[encoded data removed]",
      "text/plain": [
       "<Figure size 640x480 with 1 Axes>"
      ]
     },
     "metadata": {},
     "output_type": "display_data"
    }
   ],
   "source": [
    "draw_diagonales(3,6)"
   ]
  },
  {
   "cell_type": "code",
   "execution_count": 7,
   "id": "f4dbd450-ebae-4787-b5cb-fed947c52783",
   "metadata": {},
   "outputs": [],
   "source": [
    "def is_free(board,x,y):\n",
    "    n = board.shape[0]\n",
    "    result = True\n",
    "    for i in range(1,min(n-x,n-y)):\n",
    "        if board[x+i,y+i] == 1:\n",
    "            result=False\n",
    "    for i in range(min(x,y),0,-1):\n",
    "        if board[x-i,y-i] == 1:\n",
    "            result=False\n",
    "    for i in range(max(0,x+y-n+1),x):\n",
    "        if board[i,x+y-i] == 1:\n",
    "            result=False\n",
    "    for i in range(x+1,min(x+y+1,n)):\n",
    "        if board[i,x+y-i] == 1:\n",
    "            result=False\n",
    "    for i in range(0,x):\n",
    "        if board[i,y] == 1:\n",
    "            result=False\n",
    "    for i in range(x+1,n):\n",
    "        if board[i,y] == 1:\n",
    "            result=False\n",
    "    for j in range(0,y):\n",
    "        if board[x,j] == 1:\n",
    "            result=False\n",
    "    for j in range(y+1,n):\n",
    "        if board[x,j] == 1:\n",
    "            result=False\n",
    "    return result"
   ]
  },
  {
   "cell_type": "code",
   "execution_count": 8,
   "id": "15cc899c-c5cb-4b9f-ba39-6700e0a366cf",
   "metadata": {},
   "outputs": [],
   "source": [
    "def chekers_alea(game_board,i):\n",
    "    n = game_board.shape[0]\n",
    "    if i > 0:\n",
    "        J = np.arange(n)\n",
    "        np.random.shuffle(J)\n",
    "        for j in J:\n",
    "            if is_free(game_board,i-1,j):\n",
    "                game_board[i-1,j] = 1\n",
    "                chekers_alea(game_board,i-1)\n",
    "                \n",
    "    return game_board"
   ]
  },
  {
   "cell_type": "code",
   "execution_count": 9,
   "id": "161b8941-f7b4-4090-a49e-5c2519824680",
   "metadata": {},
   "outputs": [
    {
     "data": {
      "text/plain": [
       "5"
      ]
     },
     "execution_count": 9,
     "metadata": {},
     "output_type": "execute_result"
    }
   ],
   "source": [
    "game_board = np.zeros((5,5))\n",
    "np.count_nonzero(chekers_alea(game_board,5))"
   ]
  }
 ],
 "metadata": {
  "kernelspec": {
   "display_name": "Python 3 (ipykernel)",
   "language": "python",
   "name": "python3"
  },
  "language_info": {
   "codemirror_mode": {
    "name": "ipython",
    "version": 3
   },
   "file_extension": ".py",
   "mimetype": "text/x-python",
   "name": "python",
   "nbconvert_exporter": "python",
   "pygments_lexer": "ipython3",
   "version": "3.11.4"
  }
 },
 "nbformat": 4,
 "nbformat_minor": 5
}
